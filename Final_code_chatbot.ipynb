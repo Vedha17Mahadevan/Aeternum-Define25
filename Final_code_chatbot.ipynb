{
  "nbformat": 4,
  "nbformat_minor": 0,
  "metadata": {
    "colab": {
      "provenance": []
    },
    "kernelspec": {
      "name": "python3",
      "display_name": "Python 3"
    },
    "language_info": {
      "name": "python"
    }
  },
  "cells": [
    {
      "cell_type": "code",
      "source": [
        "pip install groq"
      ],
      "metadata": {
        "colab": {
          "base_uri": "https://localhost:8080/"
        },
        "id": "LTjr-oHpDxW1",
        "outputId": "b7796acf-e5e9-4667-fa74-b6ac01ba325b"
      },
      "execution_count": 12,
      "outputs": [
        {
          "output_type": "stream",
          "name": "stdout",
          "text": [
            "Requirement already satisfied: groq in /usr/local/lib/python3.11/dist-packages (0.18.0)\n",
            "Requirement already satisfied: anyio<5,>=3.5.0 in /usr/local/lib/python3.11/dist-packages (from groq) (3.7.1)\n",
            "Requirement already satisfied: distro<2,>=1.7.0 in /usr/local/lib/python3.11/dist-packages (from groq) (1.9.0)\n",
            "Requirement already satisfied: httpx<1,>=0.23.0 in /usr/local/lib/python3.11/dist-packages (from groq) (0.28.1)\n",
            "Requirement already satisfied: pydantic<3,>=1.9.0 in /usr/local/lib/python3.11/dist-packages (from groq) (2.10.6)\n",
            "Requirement already satisfied: sniffio in /usr/local/lib/python3.11/dist-packages (from groq) (1.3.1)\n",
            "Requirement already satisfied: typing-extensions<5,>=4.10 in /usr/local/lib/python3.11/dist-packages (from groq) (4.12.2)\n",
            "Requirement already satisfied: idna>=2.8 in /usr/local/lib/python3.11/dist-packages (from anyio<5,>=3.5.0->groq) (3.10)\n",
            "Requirement already satisfied: certifi in /usr/local/lib/python3.11/dist-packages (from httpx<1,>=0.23.0->groq) (2025.1.31)\n",
            "Requirement already satisfied: httpcore==1.* in /usr/local/lib/python3.11/dist-packages (from httpx<1,>=0.23.0->groq) (1.0.7)\n",
            "Requirement already satisfied: h11<0.15,>=0.13 in /usr/local/lib/python3.11/dist-packages (from httpcore==1.*->httpx<1,>=0.23.0->groq) (0.14.0)\n",
            "Requirement already satisfied: annotated-types>=0.6.0 in /usr/local/lib/python3.11/dist-packages (from pydantic<3,>=1.9.0->groq) (0.7.0)\n",
            "Requirement already satisfied: pydantic-core==2.27.2 in /usr/local/lib/python3.11/dist-packages (from pydantic<3,>=1.9.0->groq) (2.27.2)\n"
          ]
        }
      ]
    },
    {
      "cell_type": "code",
      "source": [
        "pip install gradio"
      ],
      "metadata": {
        "colab": {
          "base_uri": "https://localhost:8080/"
        },
        "id": "IyfrvsyUDzU0",
        "outputId": "a1d16f72-7419-4600-d45f-9e63bf07f854"
      },
      "execution_count": 13,
      "outputs": [
        {
          "output_type": "stream",
          "name": "stdout",
          "text": [
            "Requirement already satisfied: gradio in /usr/local/lib/python3.11/dist-packages (5.20.1)\n",
            "Requirement already satisfied: aiofiles<24.0,>=22.0 in /usr/local/lib/python3.11/dist-packages (from gradio) (23.2.1)\n",
            "Requirement already satisfied: anyio<5.0,>=3.0 in /usr/local/lib/python3.11/dist-packages (from gradio) (3.7.1)\n",
            "Requirement already satisfied: fastapi<1.0,>=0.115.2 in /usr/local/lib/python3.11/dist-packages (from gradio) (0.115.11)\n",
            "Requirement already satisfied: ffmpy in /usr/local/lib/python3.11/dist-packages (from gradio) (0.5.0)\n",
            "Requirement already satisfied: gradio-client==1.7.2 in /usr/local/lib/python3.11/dist-packages (from gradio) (1.7.2)\n",
            "Requirement already satisfied: groovy~=0.1 in /usr/local/lib/python3.11/dist-packages (from gradio) (0.1.2)\n",
            "Requirement already satisfied: httpx>=0.24.1 in /usr/local/lib/python3.11/dist-packages (from gradio) (0.28.1)\n",
            "Requirement already satisfied: huggingface-hub>=0.28.1 in /usr/local/lib/python3.11/dist-packages (from gradio) (0.28.1)\n",
            "Requirement already satisfied: jinja2<4.0 in /usr/local/lib/python3.11/dist-packages (from gradio) (3.1.5)\n",
            "Requirement already satisfied: markupsafe~=2.0 in /usr/local/lib/python3.11/dist-packages (from gradio) (2.1.5)\n",
            "Requirement already satisfied: numpy<3.0,>=1.0 in /usr/local/lib/python3.11/dist-packages (from gradio) (1.26.4)\n",
            "Requirement already satisfied: orjson~=3.0 in /usr/local/lib/python3.11/dist-packages (from gradio) (3.10.15)\n",
            "Requirement already satisfied: packaging in /usr/local/lib/python3.11/dist-packages (from gradio) (24.2)\n",
            "Requirement already satisfied: pandas<3.0,>=1.0 in /usr/local/lib/python3.11/dist-packages (from gradio) (2.2.2)\n",
            "Requirement already satisfied: pillow<12.0,>=8.0 in /usr/local/lib/python3.11/dist-packages (from gradio) (11.1.0)\n",
            "Requirement already satisfied: pydantic>=2.0 in /usr/local/lib/python3.11/dist-packages (from gradio) (2.10.6)\n",
            "Requirement already satisfied: pydub in /usr/local/lib/python3.11/dist-packages (from gradio) (0.25.1)\n",
            "Requirement already satisfied: python-multipart>=0.0.18 in /usr/local/lib/python3.11/dist-packages (from gradio) (0.0.20)\n",
            "Requirement already satisfied: pyyaml<7.0,>=5.0 in /usr/local/lib/python3.11/dist-packages (from gradio) (6.0.2)\n",
            "Requirement already satisfied: ruff>=0.9.3 in /usr/local/lib/python3.11/dist-packages (from gradio) (0.9.10)\n",
            "Requirement already satisfied: safehttpx<0.2.0,>=0.1.6 in /usr/local/lib/python3.11/dist-packages (from gradio) (0.1.6)\n",
            "Requirement already satisfied: semantic-version~=2.0 in /usr/local/lib/python3.11/dist-packages (from gradio) (2.10.0)\n",
            "Requirement already satisfied: starlette<1.0,>=0.40.0 in /usr/local/lib/python3.11/dist-packages (from gradio) (0.46.1)\n",
            "Requirement already satisfied: tomlkit<0.14.0,>=0.12.0 in /usr/local/lib/python3.11/dist-packages (from gradio) (0.13.2)\n",
            "Requirement already satisfied: typer<1.0,>=0.12 in /usr/local/lib/python3.11/dist-packages (from gradio) (0.15.2)\n",
            "Requirement already satisfied: typing-extensions~=4.0 in /usr/local/lib/python3.11/dist-packages (from gradio) (4.12.2)\n",
            "Requirement already satisfied: uvicorn>=0.14.0 in /usr/local/lib/python3.11/dist-packages (from gradio) (0.34.0)\n",
            "Requirement already satisfied: fsspec in /usr/local/lib/python3.11/dist-packages (from gradio-client==1.7.2->gradio) (2024.10.0)\n",
            "Requirement already satisfied: websockets<16.0,>=10.0 in /usr/local/lib/python3.11/dist-packages (from gradio-client==1.7.2->gradio) (14.2)\n",
            "Requirement already satisfied: idna>=2.8 in /usr/local/lib/python3.11/dist-packages (from anyio<5.0,>=3.0->gradio) (3.10)\n",
            "Requirement already satisfied: sniffio>=1.1 in /usr/local/lib/python3.11/dist-packages (from anyio<5.0,>=3.0->gradio) (1.3.1)\n",
            "Requirement already satisfied: certifi in /usr/local/lib/python3.11/dist-packages (from httpx>=0.24.1->gradio) (2025.1.31)\n",
            "Requirement already satisfied: httpcore==1.* in /usr/local/lib/python3.11/dist-packages (from httpx>=0.24.1->gradio) (1.0.7)\n",
            "Requirement already satisfied: h11<0.15,>=0.13 in /usr/local/lib/python3.11/dist-packages (from httpcore==1.*->httpx>=0.24.1->gradio) (0.14.0)\n",
            "Requirement already satisfied: filelock in /usr/local/lib/python3.11/dist-packages (from huggingface-hub>=0.28.1->gradio) (3.17.0)\n",
            "Requirement already satisfied: requests in /usr/local/lib/python3.11/dist-packages (from huggingface-hub>=0.28.1->gradio) (2.32.3)\n",
            "Requirement already satisfied: tqdm>=4.42.1 in /usr/local/lib/python3.11/dist-packages (from huggingface-hub>=0.28.1->gradio) (4.67.1)\n",
            "Requirement already satisfied: python-dateutil>=2.8.2 in /usr/local/lib/python3.11/dist-packages (from pandas<3.0,>=1.0->gradio) (2.8.2)\n",
            "Requirement already satisfied: pytz>=2020.1 in /usr/local/lib/python3.11/dist-packages (from pandas<3.0,>=1.0->gradio) (2025.1)\n",
            "Requirement already satisfied: tzdata>=2022.7 in /usr/local/lib/python3.11/dist-packages (from pandas<3.0,>=1.0->gradio) (2025.1)\n",
            "Requirement already satisfied: annotated-types>=0.6.0 in /usr/local/lib/python3.11/dist-packages (from pydantic>=2.0->gradio) (0.7.0)\n",
            "Requirement already satisfied: pydantic-core==2.27.2 in /usr/local/lib/python3.11/dist-packages (from pydantic>=2.0->gradio) (2.27.2)\n",
            "Requirement already satisfied: click>=8.0.0 in /usr/local/lib/python3.11/dist-packages (from typer<1.0,>=0.12->gradio) (8.1.8)\n",
            "Requirement already satisfied: shellingham>=1.3.0 in /usr/local/lib/python3.11/dist-packages (from typer<1.0,>=0.12->gradio) (1.5.4)\n",
            "Requirement already satisfied: rich>=10.11.0 in /usr/local/lib/python3.11/dist-packages (from typer<1.0,>=0.12->gradio) (13.9.4)\n",
            "Requirement already satisfied: six>=1.5 in /usr/local/lib/python3.11/dist-packages (from python-dateutil>=2.8.2->pandas<3.0,>=1.0->gradio) (1.17.0)\n",
            "Requirement already satisfied: markdown-it-py>=2.2.0 in /usr/local/lib/python3.11/dist-packages (from rich>=10.11.0->typer<1.0,>=0.12->gradio) (3.0.0)\n",
            "Requirement already satisfied: pygments<3.0.0,>=2.13.0 in /usr/local/lib/python3.11/dist-packages (from rich>=10.11.0->typer<1.0,>=0.12->gradio) (2.18.0)\n",
            "Requirement already satisfied: charset-normalizer<4,>=2 in /usr/local/lib/python3.11/dist-packages (from requests->huggingface-hub>=0.28.1->gradio) (3.4.1)\n",
            "Requirement already satisfied: urllib3<3,>=1.21.1 in /usr/local/lib/python3.11/dist-packages (from requests->huggingface-hub>=0.28.1->gradio) (2.3.0)\n",
            "Requirement already satisfied: mdurl~=0.1 in /usr/local/lib/python3.11/dist-packages (from markdown-it-py>=2.2.0->rich>=10.11.0->typer<1.0,>=0.12->gradio) (0.1.2)\n"
          ]
        }
      ]
    },
    {
      "cell_type": "code",
      "execution_count": 17,
      "metadata": {
        "colab": {
          "base_uri": "https://localhost:8080/",
          "height": 680
        },
        "id": "maT5rMLmCkFB",
        "outputId": "ec81ff72-f1c8-44a6-df95-bf6982aa93a5"
      },
      "outputs": [
        {
          "output_type": "stream",
          "name": "stderr",
          "text": [
            "<ipython-input-17-a78bc2a552e2>:46: UserWarning: You have not specified a value for the `type` parameter. Defaulting to the 'tuples' format for chatbot messages, but this is deprecated and will be removed in a future version of Gradio. Please set type='messages' instead, which uses openai-style dictionaries with 'role' and 'content' keys.\n",
            "  chatbot=gr.Chatbot(height=300),  # Increased Chatbot box height\n",
            "/usr/local/lib/python3.11/dist-packages/gradio/chat_interface.py:317: UserWarning: The gr.ChatInterface was not provided with a type, so the type of the gr.Chatbot, 'tuples', will be used.\n",
            "  warnings.warn(\n"
          ]
        },
        {
          "output_type": "stream",
          "name": "stdout",
          "text": [
            "Colab notebook detected. To show errors in colab notebook, set debug=True in launch()\n",
            "* Running on public URL: https://213a5989c8434c8221.gradio.live\n",
            "\n",
            "This share link expires in 72 hours. For free permanent hosting and GPU upgrades, run `gradio deploy` from the terminal in the working directory to deploy to Hugging Face Spaces (https://huggingface.co/spaces)\n"
          ]
        },
        {
          "output_type": "display_data",
          "data": {
            "text/plain": [
              "<IPython.core.display.HTML object>"
            ],
            "text/html": [
              "<div><iframe src=\"https://213a5989c8434c8221.gradio.live\" width=\"100%\" height=\"500\" allow=\"autoplay; camera; microphone; clipboard-read; clipboard-write;\" frameborder=\"0\" allowfullscreen></iframe></div>"
            ]
          },
          "metadata": {}
        },
        {
          "output_type": "execute_result",
          "data": {
            "text/plain": []
          },
          "metadata": {},
          "execution_count": 17
        }
      ],
      "source": [
        "\n",
        "\n",
        "import gradio\n",
        "from groq import Groq\n",
        "client = Groq(api_key=\"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\",)\n",
        "def initialize_messages():\n",
        "    return [{\"role\": \"system\",\n",
        "             \"content\": \"Welcome to VedAyu! I’m your personal AYUSH assistant, here to guide you on Ayurveda, Yoga, Naturopathy, Unani, Siddha, and Homeopathy. Ask me anything about holistic wellness, herbal remedies, yoga practices, diet tips, or traditional healing methods. How can I assist you on your wellness journey today?\"}]\n",
        "messages_prmt = initialize_messages()\n",
        "ayush_keywords = [\n",
        "    \"ayurveda\", \"yoga\", \"naturopathy\", \"unani\", \"siddha\", \"homeopathy\",\"youtube\",\n",
        "    \"herbal\", \"meditation\", \"pranayama\", \"dosha\", \"asanas\", \"detox\", \"holistic\",\"issue\",\"care\",\"issues\",\"care\",\"cure\",\"problems\",\"therapy\",\"diet\",\"mindset\",\"mental health\",\"depression\",\"anti\",\n",
        "    \"natural healing\", \"wellness\", \"herbs\", \"traditional medicine\",\"remedies\", \"alternative therapy\",\"food\",\"immunity\",\"Energy\",\"organic\",\"Wellness\",\"supplements\",\n",
        "    \"home remedies\", \"acupuncture\", \"ayush\", \"energy healing\", \"chakras\",\"help\",\"soluton\",\"discomfort\",\"medicine\",\"problem\",\"ayurvedic\",\"medicines\",\"India\",\"Kerala\",\"reduce\",\"Doctor\",\"stress\",\"symptoms\",\"symptom\", \"relief\"\n",
        "]\n",
        "\n",
        "def is_ayush_related(user_input):\n",
        "    \"\"\"Check if user input is AYUSH-related by analyzing keywords.\"\"\"\n",
        "    user_input_lower = user_input.lower()\n",
        "\n",
        "    # If input has at least one AYUSH-related keyword, return True\n",
        "    return any(keyword in user_input_lower for keyword in ayush_keywords)\n",
        "\n",
        "def customLLMBot(user_input, history):\n",
        "    global messages_prmt\n",
        "\n",
        "    # Check if the input is AYUSH-related\n",
        "    if is_ayush_related(user_input):\n",
        "        messages_prmt.append({\"role\": \"user\", \"content\": user_input})\n",
        "\n",
        "        response = client.chat.completions.create(\n",
        "            messages=messages_prmt,\n",
        "            model=\"llama3-8b-8192\",\n",
        "        )\n",
        "\n",
        "        LLM_reply = response.choices[0].message.content\n",
        "        messages_prmt.append({\"role\": \"assistant\", \"content\": LLM_reply})\n",
        "\n",
        "        return LLM_reply\n",
        "\n",
        "    # Fallback response for non-AYUSH queries\n",
        "    return \"I'm here to assist you with AYUSH-related topics such as Ayurveda, Yoga, Naturopathy, Unani, Siddha, and Homeopathy. Please ask about holistic wellness, herbal remedies, or traditional healing methods.\"\n",
        "import gradio as gr\n",
        "\n",
        "# Define the chatbot interface\n",
        "chatbot_interface = gr.ChatInterface(\n",
        "    customLLMBot,\n",
        "    chatbot=gr.Chatbot(height=300),  # Increased Chatbot box height\n",
        "    textbox=gr.Textbox(placeholder=\"✨ Ask me a question related to AYUSH 🌿\"),\n",
        "    title=\"✨ Vedica-AYUSH Assistant🌿\",\n",
        "    description=\"🌱 Welcome to VedAyu! I’m your personal AYUSH assistant, here to guide you on Ayurveda, Yoga, Naturopathy, Unani, Siddha, and Homeopathy. Ask me anything about holistic wellness, herbal remedies, yoga practices, diet tips, or traditional healing methods. How can I assist you on your wellness journey today?🌿\",\n",
        "    theme=\"soft\",\n",
        "    examples=[\"🙏 Namaste\", \"🧘‍♂️ Suggest a remedy for back pain\", \"🌱 Would you like more home remedies or yoga poses for relief?\"],\n",
        "    submit_btn=True\n",
        ")\n",
        "\n",
        "# Custom CSS for an AYUSH-based theme with natural colors\n",
        "chatbot_interface.css = \"\"\"\n",
        "body {\n",
        "    background-color: #e6ffe6;  /* Soft herbal green background */\n",
        "    font-family: 'Merriweather', serif; /* Traditional and elegant font */\n",
        "    margin: 0;\n",
        "    padding: 0;\n",
        "    color: #2d6a4f; /* Deep green text for nature-inspired look */\n",
        "    display: flex;\n",
        "    flex-direction: column;\n",
        "    align-items: center;\n",
        "    justify-content: center;\n",
        "    height: 100vh;\n",
        "    text-align: center;\n",
        "}\n",
        "\n",
        "/* Navigation Bar */\n",
        ".navbar {\n",
        "    background-color: #1b4332;  /* Dark herbal green */\n",
        "    color: white;\n",
        "    padding: 15px 20px;\n",
        "    text-align: center;\n",
        "    font-size: 20px;\n",
        "    font-weight: bold;\n",
        "    letter-spacing: 1px;\n",
        "    width: 100%;\n",
        "}\n",
        "\n",
        "/* Main Content */\n",
        ".main-container {\n",
        "    display: flex;\n",
        "    flex-direction: column;\n",
        "    align-items: center;\n",
        "    justify-content: center;\n",
        "    height: 80vh;\n",
        "    text-align: center;\n",
        "    width: 100%;\n",
        "}\n",
        "\n",
        "/* Chatbox Styling */\n",
        ".gradio-container {\n",
        "    padding: 30px;\n",
        "    border-radius: 20px;\n",
        "    box-shadow: 0px 6px 20px rgba(0, 0, 0, 0.2);\n",
        "    width: 90%;  /* Increased width for better layout */\n",
        "    max-width: 600px;\n",
        "    margin: auto;\n",
        "    font-size: 18px; /* Slightly larger text for readability */\n",
        "    font-weight: 500;\n",
        "    border: 2px solid #a3b18a; /* Subtle green border */\n",
        "}\n",
        "\n",
        "/* Footer */\n",
        ".footer {\n",
        "    background-color: #1b4332;\n",
        "    color: white;\n",
        "    text-align: center;\n",
        "    padding: 10px;\n",
        "    position: fixed;\n",
        "    bottom: 0;\n",
        "    width: 100%;\n",
        "    font-size: 15px;\n",
        "    font-weight: bold;\n",
        "}\n",
        "\"\"\"\n",
        "chatbot_interface.launch(share=True)"
      ]
    }
  ]
}